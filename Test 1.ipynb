{
 "cells": [
  {
   "cell_type": "code",
   "execution_count": null,
   "metadata": {},
   "outputs": [],
   "source": [
    "import sqlite3\n",
    "from sqlite3 import Error\n",
    "import requests"
   ]
  },
  {
   "cell_type": "code",
   "execution_count": null,
   "metadata": {},
   "outputs": [],
   "source": [
    "# https://catalog.data.gov/dataset/air-quality-measures-on-the-national-environmental-health-tracking-network"
   ]
  },
  {
   "cell_type": "markdown",
   "metadata": {},
   "source": [
    "### Get dataset"
   ]
  },
  {
   "cell_type": "code",
   "execution_count": null,
   "metadata": {},
   "outputs": [],
   "source": [
    "dataset_url_path = 'https://data.cdc.gov/api/views/cjae-szjv/rows.json?accessType=DOWNLOAD'"
   ]
  },
  {
   "cell_type": "code",
   "execution_count": null,
   "metadata": {},
   "outputs": [],
   "source": [
    "resp = requests.get(dataset_url_path)"
   ]
  },
  {
   "cell_type": "code",
   "execution_count": null,
   "metadata": {},
   "outputs": [],
   "source": [
    "resp.status_code"
   ]
  },
  {
   "cell_type": "code",
   "execution_count": null,
   "metadata": {},
   "outputs": [],
   "source": [
    "data = resp.json()"
   ]
  },
  {
   "cell_type": "code",
   "execution_count": null,
   "metadata": {},
   "outputs": [],
   "source": [
    "len(data)"
   ]
  },
  {
   "cell_type": "code",
   "execution_count": null,
   "metadata": {},
   "outputs": [],
   "source": [
    "data.keys()"
   ]
  },
  {
   "cell_type": "code",
   "execution_count": null,
   "metadata": {
    "scrolled": false
   },
   "outputs": [],
   "source": [
    "column_names = [column['fieldName'].replace(':', '') for column in data['meta']['view']['columns']]"
   ]
  },
  {
   "cell_type": "markdown",
   "metadata": {},
   "source": [
    "### Create connection to db"
   ]
  },
  {
   "cell_type": "code",
   "execution_count": null,
   "metadata": {},
   "outputs": [],
   "source": [
    "def create_connection(path):\n",
    "    \"\"\" \n",
    "    Create a database connection to the SQLite database specified by path.\n",
    "    \"\"\"\n",
    "    connection = None\n",
    "    try:\n",
    "        connection = sqlite3.connect(path)\n",
    "        #print(\"Connection to SQLite DB successful\")\n",
    "    except Error as e:\n",
    "        print(e)\n",
    "    return connection"
   ]
  },
  {
   "cell_type": "code",
   "execution_count": null,
   "metadata": {},
   "outputs": [],
   "source": [
    "#connection = create_connection(\"E:\\\\sm_app.sqlite\")"
   ]
  },
  {
   "cell_type": "markdown",
   "metadata": {},
   "source": [
    "### Create table"
   ]
  },
  {
   "cell_type": "code",
   "execution_count": null,
   "metadata": {},
   "outputs": [],
   "source": [
    "def create_table(connection, create_table_sql):\n",
    "    \"\"\" \n",
    "    Create a table from the create_table_sql statement\n",
    "    \"\"\"\n",
    "    try:\n",
    "        c = connection.cursor()\n",
    "        c.execute(create_table_sql)\n",
    "    except Error as e:\n",
    "        print(e)"
   ]
  },
  {
   "cell_type": "code",
   "execution_count": null,
   "metadata": {},
   "outputs": [],
   "source": [
    "def main():\n",
    "    database = \"pythonsqlite.db\"\n",
    "\n",
    "    sql_create_measures_table = \"\"\"CREATE TABLE IF NOT EXISTS measures (\n",
    "                                    sid text PRIMARY KEY,\n",
    "                                    id text NOT NULL,\n",
    "                                    position integer NOT NULL,\n",
    "                                    created_at integer NOT NULL,\n",
    "                                    created_meta NULL,\n",
    "                                    updated_at integer NOT NULL,\n",
    "                                    updated_meta NULL,\n",
    "                                    meta text NOT NULL,\n",
    "                                    measureid text NOT NULL,\n",
    "                                    measurename text NOT NULL,\n",
    "                                    measuretype text NOT NULL,\n",
    "                                    stratificationlevel text NOT NULL,\n",
    "                                    statefips text NOT NULL,\n",
    "                                    statename text NOT NULL,\n",
    "                                    countyfips text NOT NULL,\n",
    "                                    countyname text NOT NULL,\n",
    "                                    reportyear text NOT NULL,\n",
    "                                    value text NOT NULL,\n",
    "                                    unit text NOT NULL,\n",
    "                                    unitname text NOT NULL,\n",
    "                                    dataorigin text NOT NULL,\n",
    "                                    monitoronly text NOT NULL\n",
    "                                );\"\"\"\n",
    "    \n",
    "    #FOREIGN KEY (project_id) REFERENCES projects (id)\n",
    "    \n",
    "    # create a database connection\n",
    "    connection = create_connection(database)\n",
    "\n",
    "    # create table\n",
    "    if connection is not None:\n",
    "        # create measures table\n",
    "        create_table(connection, sql_create_measures_table)\n",
    "    else:\n",
    "        print(\"Error! cannot create the database connection.\")"
   ]
  },
  {
   "cell_type": "code",
   "execution_count": null,
   "metadata": {},
   "outputs": [],
   "source": [
    "if __name__ == '__main__':\n",
    "    main()"
   ]
  },
  {
   "cell_type": "markdown",
   "metadata": {},
   "source": [
    "### Insert measure"
   ]
  },
  {
   "cell_type": "code",
   "execution_count": null,
   "metadata": {},
   "outputs": [],
   "source": [
    "def create_measure(connection, project):\n",
    "    \"\"\"\n",
    "    A function to insert a new measure into the measures table.    \n",
    "    Use the  lastrowid attribute of the Cursor object to get back the generated id.\n",
    "    \"\"\"\n",
    "    sql = ''' INSERT INTO measures(\n",
    "                            sid,\n",
    "                            id,\n",
    "                            position,\n",
    "                            created_at,\n",
    "                            created_meta,\n",
    "                            updated_at,\n",
    "                            updated_meta,\n",
    "                            meta,\n",
    "                            measureid,\n",
    "                            measurename,\n",
    "                            measuretype,\n",
    "                            stratificationlevel,\n",
    "                            statefips,\n",
    "                            statename,\n",
    "                            countyfips,\n",
    "                            countyname,\n",
    "                            reportyear,\n",
    "                            value,\n",
    "                            unit,\n",
    "                            unitname,\n",
    "                            dataorigin,\n",
    "                            monitoronly\n",
    "                            )\n",
    "              VALUES(?,?,?,?,?,?,?,?,?,?,?,?,?,?,?,?,?,?,?,?,?,?) '''\n",
    "    cursor = connection.cursor()\n",
    "    cursor.execute(sql, test_measure)\n",
    "    connection.commit()\n",
    "    return cursor.lastrowid"
   ]
  },
  {
   "cell_type": "code",
   "execution_count": null,
   "metadata": {},
   "outputs": [],
   "source": [
    "test_measure = data['data'][1]"
   ]
  },
  {
   "cell_type": "code",
   "execution_count": null,
   "metadata": {},
   "outputs": [],
   "source": [
    "def main():\n",
    "    database = \"pythonsqlite.db\"\n",
    "\n",
    "    # create a database connection\n",
    "    connection = create_connection(database)\n",
    "    with connection:\n",
    "        # create a new measure\n",
    "        project = ('Cool App with SQLite & Python', '2015-01-01', '2015-01-30');\n",
    "        project_id = create_measure(connection, test_measure)"
   ]
  },
  {
   "cell_type": "code",
   "execution_count": null,
   "metadata": {},
   "outputs": [],
   "source": [
    "if __name__ == '__main__':\n",
    "    main()"
   ]
  },
  {
   "cell_type": "markdown",
   "metadata": {},
   "source": [
    "### Querying measures"
   ]
  },
  {
   "cell_type": "code",
   "execution_count": null,
   "metadata": {},
   "outputs": [],
   "source": [
    "def select_all_measures(connection):\n",
    "    \"\"\"\n",
    "    Query all rows in the measures table\n",
    "    :param conn: the Connection object\n",
    "    :return:\n",
    "    \"\"\"\n",
    "    cursor = connection.cursor()\n",
    "    cursor.execute(\"SELECT * FROM measures\")\n",
    "\n",
    "    rows = cursor.fetchall()\n",
    "    \n",
    "    names = list(map(lambda x: x[0], cursor.description))\n",
    "    print(names)\n",
    "\n",
    "    for row in rows:\n",
    "        print(row)"
   ]
  },
  {
   "cell_type": "code",
   "execution_count": null,
   "metadata": {},
   "outputs": [],
   "source": [
    "def main():\n",
    "    database = \"pythonsqlite.db\"\n",
    "\n",
    "    # create a database connection\n",
    "    connection = create_connection(database)\n",
    "    with connection:\n",
    "        select_all_measures(connection)"
   ]
  },
  {
   "cell_type": "code",
   "execution_count": null,
   "metadata": {},
   "outputs": [],
   "source": [
    "if __name__ == '__main__':\n",
    "    main()"
   ]
  },
  {
   "cell_type": "code",
   "execution_count": null,
   "metadata": {},
   "outputs": [],
   "source": []
  }
 ],
 "metadata": {
  "kernelspec": {
   "display_name": "Python 3",
   "language": "python",
   "name": "python3"
  },
  "language_info": {
   "codemirror_mode": {
    "name": "ipython",
    "version": 3
   },
   "file_extension": ".py",
   "mimetype": "text/x-python",
   "name": "python",
   "nbconvert_exporter": "python",
   "pygments_lexer": "ipython3",
   "version": "3.7.3"
  }
 },
 "nbformat": 4,
 "nbformat_minor": 2
}
